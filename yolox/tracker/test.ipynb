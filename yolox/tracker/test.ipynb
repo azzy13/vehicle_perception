{
 "cells": [
  {
   "cell_type": "code",
   "execution_count": 1,
   "metadata": {},
   "outputs": [
    {
     "name": "stdout",
     "output_type": "stream",
     "text": [
      "Initial State: [100.    50.     0.     1.57   0.     0.  ]\n",
      "Initial Covariance: [[0.01 0.   0.   0.   0.   0.  ]\n",
      " [0.   0.01 0.   0.   0.   0.  ]\n",
      " [0.   0.   1.   0.   0.   0.  ]\n",
      " [0.   0.   0.   0.25 0.   0.  ]\n",
      " [0.   0.   0.   0.   0.01 0.  ]\n",
      " [0.   0.   0.   0.   0.   0.01]]\n"
     ]
    }
   ],
   "source": [
    "from ctra_kalman_filter import CTRAKalmanFilter\n",
    "import numpy as np\n",
    "\n",
    "kf = CTRAKalmanFilter()\n",
    "measurement = np.array([100, 50, 1.57])  # Example: [x, y, theta]\n",
    "mean, cov = kf.initiate(measurement)\n",
    "print(\"Initial State:\", mean)\n",
    "print(\"Initial Covariance:\", cov)\n"
   ]
  },
  {
   "cell_type": "code",
   "execution_count": 2,
   "metadata": {},
   "outputs": [
    {
     "name": "stdout",
     "output_type": "stream",
     "text": [
      "Predicted State: [100.    50.     0.     1.57   0.     0.  ]\n",
      "Predicted Covariance: [[0.06 0.   0.   0.   0.   0.  ]\n",
      " [0.   0.06 0.   0.   0.   0.  ]\n",
      " [0.   0.   1.05 0.   0.   0.  ]\n",
      " [0.   0.   0.   0.3  0.   0.  ]\n",
      " [0.   0.   0.   0.   0.06 0.  ]\n",
      " [0.   0.   0.   0.   0.   0.06]]\n"
     ]
    }
   ],
   "source": [
    "dt = 1.0\n",
    "mean, cov = kf.predict(mean, cov, dt)\n",
    "print(\"Predicted State:\", mean)\n",
    "print(\"Predicted Covariance:\", cov)\n"
   ]
  },
  {
   "cell_type": "code",
   "execution_count": 29,
   "metadata": {},
   "outputs": [
    {
     "ename": "AttributeError",
     "evalue": "'CTRAKalmanFilter' object has no attribute 'predict_state'",
     "output_type": "error",
     "traceback": [
      "\u001b[0;31m---------------------------------------------------------------------------\u001b[0m",
      "\u001b[0;31mAttributeError\u001b[0m                            Traceback (most recent call last)",
      "Cell \u001b[0;32mIn[29], line 6\u001b[0m\n\u001b[1;32m      4\u001b[0m detections \u001b[38;5;241m=\u001b[39m [\u001b[38;5;241m.\u001b[39m\u001b[38;5;241m.\u001b[39m\u001b[38;5;241m.\u001b[39m]  \u001b[38;5;66;03m# Populate with mock detection states\u001b[39;00m\n\u001b[1;32m      5\u001b[0m cost_matrix \u001b[38;5;241m=\u001b[39m np\u001b[38;5;241m.\u001b[39mzeros((\u001b[38;5;28mlen\u001b[39m(tracks), \u001b[38;5;28mlen\u001b[39m(detections)))  \u001b[38;5;66;03m# Mock IoU costs\u001b[39;00m\n\u001b[0;32m----> 6\u001b[0m fused_cost \u001b[38;5;241m=\u001b[39m \u001b[43mfuse_motion_ctra\u001b[49m\u001b[43m(\u001b[49m\u001b[43mkf\u001b[49m\u001b[43m,\u001b[49m\u001b[43m \u001b[49m\u001b[43mcost_matrix\u001b[49m\u001b[43m,\u001b[49m\u001b[43m \u001b[49m\u001b[43mtracks\u001b[49m\u001b[43m,\u001b[49m\u001b[43m \u001b[49m\u001b[43mdetections\u001b[49m\u001b[43m)\u001b[49m\n\u001b[1;32m      7\u001b[0m \u001b[38;5;28mprint\u001b[39m(\u001b[38;5;124m\"\u001b[39m\u001b[38;5;124mFused Cost Matrix:\u001b[39m\u001b[38;5;124m\"\u001b[39m, fused_cost)\n",
      "File \u001b[0;32m~/ByteTrack/yolox/tracker/matching.py:169\u001b[0m, in \u001b[0;36mfuse_motion_ctra\u001b[0;34m(kf, cost_matrix, tracks, detections)\u001b[0m\n\u001b[1;32m    166\u001b[0m \u001b[38;5;28;01mfor\u001b[39;00m i, track \u001b[38;5;129;01min\u001b[39;00m \u001b[38;5;28menumerate\u001b[39m(tracks):\n\u001b[1;32m    167\u001b[0m     \u001b[38;5;28;01mfor\u001b[39;00m j, detection \u001b[38;5;129;01min\u001b[39;00m \u001b[38;5;28menumerate\u001b[39m(detections):\n\u001b[1;32m    168\u001b[0m         \u001b[38;5;66;03m# Predict state and get detection measurement\u001b[39;00m\n\u001b[0;32m--> 169\u001b[0m         predicted_state \u001b[38;5;241m=\u001b[39m \u001b[43mkf\u001b[49m\u001b[38;5;241;43m.\u001b[39;49m\u001b[43mpredict_state\u001b[49m(track\u001b[38;5;241m.\u001b[39mstate)\n\u001b[1;32m    170\u001b[0m         measurement \u001b[38;5;241m=\u001b[39m detection[:\u001b[38;5;241m2\u001b[39m]  \u001b[38;5;66;03m# Assuming [x, y] position\u001b[39;00m\n\u001b[1;32m    172\u001b[0m         \u001b[38;5;66;03m# Compute motion distance\u001b[39;00m\n",
      "\u001b[0;31mAttributeError\u001b[0m: 'CTRAKalmanFilter' object has no attribute 'predict_state'"
     ]
    }
   ],
   "source": [
    "from matching import fuse_motion_ctra\n",
    "\n",
    "tracks = [...]  # Populate with mock track states\n",
    "detections = [...]  # Populate with mock detection states\n",
    "cost_matrix = np.zeros((len(tracks), len(detections)))  # Mock IoU costs\n",
    "fused_cost = fuse_motion_ctra(kf, cost_matrix, tracks, detections)\n",
    "print(\"Fused Cost Matrix:\", fused_cost)\n"
   ]
  },
  {
   "cell_type": "code",
   "execution_count": 30,
   "metadata": {},
   "outputs": [
    {
     "name": "stdout",
     "output_type": "stream",
     "text": [
      "==== TEST 1: Initialization ====\n",
      "Initial State shape: (6,)\n",
      "Initialized Mean:\n",
      "[100.    50.     0.     1.57   0.     0.  ]\n",
      "(6,)\n",
      "Initialized Covariance:\n",
      "[[0.01 0.   0.   0.   0.   0.  ]\n",
      " [0.   0.01 0.   0.   0.   0.  ]\n",
      " [0.   0.   1.   0.   0.   0.  ]\n",
      " [0.   0.   0.   0.25 0.   0.  ]\n",
      " [0.   0.   0.   0.   0.01 0.  ]\n",
      " [0.   0.   0.   0.   0.   0.01]]\n",
      "(6, 6)\n",
      "\n",
      "==== TEST 2: Prediction ====\n",
      "Predicted Mean:\n",
      "[100.    50.     0.     1.57   0.     0.  ]\n",
      "(6,)\n",
      "Predicted Covariance:\n",
      "[[0.06 0.   0.   0.   0.   0.  ]\n",
      " [0.   0.06 0.   0.   0.   0.  ]\n",
      " [0.   0.   1.05 0.   0.   0.  ]\n",
      " [0.   0.   0.   0.3  0.   0.  ]\n",
      " [0.   0.   0.   0.   0.06 0.  ]\n",
      " [0.   0.   0.   0.   0.   0.06]]\n",
      "(6, 6)\n",
      "measurement shape: (2,)\n"
     ]
    },
    {
     "ename": "ValueError",
     "evalue": "operands could not be broadcast together with shapes (2,) (4,) ",
     "output_type": "error",
     "traceback": [
      "\u001b[0;31m---------------------------------------------------------------------------\u001b[0m",
      "\u001b[0;31mValueError\u001b[0m                                Traceback (most recent call last)",
      "Cell \u001b[0;32mIn[30], line 39\u001b[0m\n\u001b[1;32m     37\u001b[0m measurement \u001b[38;5;241m=\u001b[39m np\u001b[38;5;241m.\u001b[39marray([\u001b[38;5;241m102.0\u001b[39m, \u001b[38;5;241m52.0\u001b[39m])  \u001b[38;5;66;03m# Pad with zeros\u001b[39;00m\n\u001b[1;32m     38\u001b[0m \u001b[38;5;28mprint\u001b[39m(\u001b[38;5;124m'\u001b[39m\u001b[38;5;124mmeasurement shape:\u001b[39m\u001b[38;5;124m'\u001b[39m, measurement\u001b[38;5;241m.\u001b[39mshape)\n\u001b[0;32m---> 39\u001b[0m updated_mean, updated_covariance \u001b[38;5;241m=\u001b[39m \u001b[43mkf\u001b[49m\u001b[38;5;241;43m.\u001b[39;49m\u001b[43mupdate\u001b[49m\u001b[43m(\u001b[49m\u001b[43mpredicted_mean\u001b[49m\u001b[43m,\u001b[49m\u001b[43m \u001b[49m\u001b[43mpredicted_covariance\u001b[49m\u001b[43m,\u001b[49m\u001b[43m \u001b[49m\u001b[43mmeasurement\u001b[49m\u001b[43m)\u001b[49m\n\u001b[1;32m     40\u001b[0m \u001b[38;5;28mprint\u001b[39m(\u001b[38;5;124m\"\u001b[39m\u001b[38;5;124mUpdated Mean:\u001b[39m\u001b[38;5;124m\"\u001b[39m, updated_mean)\n\u001b[1;32m     41\u001b[0m \u001b[38;5;28mprint\u001b[39m(\u001b[38;5;124m\"\u001b[39m\u001b[38;5;124mUpdated Covariance:\u001b[39m\u001b[38;5;124m\"\u001b[39m, updated_covariance)\n",
      "File \u001b[0;32m~/ByteTrack/yolox/tracker/ctra_kalman_filter.py:60\u001b[0m, in \u001b[0;36mupdate\u001b[0;34m(self, mean, covariance, measurement)\u001b[0m\n\u001b[1;32m     56\u001b[0m \u001b[38;5;28;01mdef\u001b[39;00m \u001b[38;5;21mpredict_state\u001b[39m(\u001b[38;5;28mself\u001b[39m, state, dt\u001b[38;5;241m=\u001b[39m\u001b[38;5;241m1.0\u001b[39m):\n\u001b[1;32m     57\u001b[0m \u001b[38;5;250m    \u001b[39m\u001b[38;5;124;03m\"\"\"\u001b[39;00m\n\u001b[1;32m     58\u001b[0m \u001b[38;5;124;03m    Predict the next state based on the CTRA model.\u001b[39;00m\n\u001b[1;32m     59\u001b[0m \u001b[38;5;124;03m    Args:\u001b[39;00m\n\u001b[0;32m---> 60\u001b[0m \u001b[38;5;124;03m        state: Current state vector [x, y, v, θ, a, ω].\u001b[39;00m\n\u001b[1;32m     61\u001b[0m \u001b[38;5;124;03m        dt: Time step for prediction.\u001b[39;00m\n\u001b[1;32m     62\u001b[0m \u001b[38;5;124;03m    Returns:\u001b[39;00m\n\u001b[1;32m     63\u001b[0m \u001b[38;5;124;03m        predicted_state: Predicted state vector [x, y, v, θ, a, ω].\u001b[39;00m\n\u001b[1;32m     64\u001b[0m \u001b[38;5;124;03m    \"\"\"\u001b[39;00m\n\u001b[1;32m     65\u001b[0m     predicted_state \u001b[38;5;241m=\u001b[39m state\u001b[38;5;241m.\u001b[39mcopy()\n\u001b[1;32m     66\u001b[0m     predicted_state[\u001b[38;5;241m0\u001b[39m] \u001b[38;5;241m+\u001b[39m\u001b[38;5;241m=\u001b[39m predicted_state[\u001b[38;5;241m2\u001b[39m] \u001b[38;5;241m*\u001b[39m dt \u001b[38;5;241m*\u001b[39m np\u001b[38;5;241m.\u001b[39mcos(predicted_state[\u001b[38;5;241m3\u001b[39m])  \u001b[38;5;66;03m# x position\u001b[39;00m\n",
      "\u001b[0;31mValueError\u001b[0m: operands could not be broadcast together with shapes (2,) (4,) "
     ]
    }
   ],
   "source": [
    "# Import necessary modules\n",
    "import numpy as np\n",
    "from ctra_kalman_filter import CTRAKalmanFilter\n",
    "\n",
    "# Initialize the Kalman filter\n",
    "kf = CTRAKalmanFilter()\n",
    "\n",
    "# Test 1: Initialization\n",
    "print(\"==== TEST 1: Initialization ====\")\n",
    "initial_measurement = np.array([100.0, 50.0, 1.57])  # [x, y, θ]\n",
    "mean, covariance = kf.initiate(initial_measurement)\n",
    "print(\"Initial State shape:\", mean.shape)\n",
    "\n",
    "print(\"Initialized Mean:\")\n",
    "print(mean)\n",
    "print(mean.shape)\n",
    "print(\"Initialized Covariance:\")\n",
    "print(covariance)\n",
    "print(covariance.shape)\n",
    "\n",
    "# Expected Output:\n",
    "# mean = [100.0, 50.0, 0.0, 1.57, 0.0, 0.0]\n",
    "# covariance = diagonal matrix with defined std squared\n",
    "\n",
    "# Test 2: Prediction\n",
    "print(\"\\n==== TEST 2: Prediction ====\")\n",
    "predicted_mean, predicted_covariance = kf.predict(mean, covariance, dt=2.0)\n",
    "\n",
    "print(\"Predicted Mean:\")\n",
    "print(predicted_mean)\n",
    "print(predicted_mean.shape)\n",
    "print(\"Predicted Covariance:\")\n",
    "print(predicted_covariance)\n",
    "print(predicted_covariance.shape)\n",
    "\n",
    "# Test 3: Update\n",
    "measurement = np.array([102.0, 52.0])  # Pad with zeros\n",
    "print('measurement shape:', measurement.shape)\n",
    "updated_mean, updated_covariance = kf.update(predicted_mean, predicted_covariance, measurement)\n",
    "print(\"Updated Mean:\", updated_mean)\n",
    "print(\"Updated Covariance:\", updated_covariance)\n",
    "\n",
    "# Test 4: Predict State (Alternative Method)\n",
    "print(\"\\n==== TEST 4: Predict State ====\")\n",
    "predicted_state = kf.predict_state(mean, dt=1.0)\n",
    "\n",
    "print(\"Predicted State:\")\n",
    "print(predicted_state)\n",
    "\n",
    "# Test 5: Multi Predict\n",
    "print(\"\\n==== TEST 5: Multi Predict ====\")\n",
    "means = np.array([[100.0, 50.0, 1.0, 1.57, 0.1, 0.01],\n",
    "                  [200.0, 150.0, 2.0, 0.0, 0.2, 0.02]])\n",
    "covariances = np.array([np.eye(6), np.eye(6)])\n",
    "multi_predicted_means, multi_predicted_covariances = kf.multi_predict(means, covariances, dt=1.0)\n",
    "\n",
    "print(\"Multi Predicted Means:\")\n",
    "print(multi_predicted_means)\n",
    "print(\"Multi Predicted Covariances:\")\n",
    "print(multi_predicted_covariances)\n"
   ]
  },
  {
   "cell_type": "code",
   "execution_count": 31,
   "metadata": {},
   "outputs": [
    {
     "name": "stdout",
     "output_type": "stream",
     "text": [
      "\n",
      "==== TEST 1: Initialization ====\n",
      "==== Initialization - Mean ====\n",
      "Result:\n",
      "[100.  50.   0.   1.   0.   0.]\n",
      "Expected:\n",
      "[100.  50.   1.   2.   0.   0.   0.   0.   0.   0.]\n",
      "\n",
      "==== Initialization - Covariance ====\n",
      "Result:\n",
      "[[0.01 0.   0.   0.   0.   0.  ]\n",
      " [0.   0.01 0.   0.   0.   0.  ]\n",
      " [0.   0.   1.   0.   0.   0.  ]\n",
      " [0.   0.   0.   0.25 0.   0.  ]\n",
      " [0.   0.   0.   0.   0.01 0.  ]\n",
      " [0.   0.   0.   0.   0.   0.01]]\n",
      "\n",
      "\n",
      "==== TEST 2: Prediction ====\n",
      "==== Prediction - Mean ====\n",
      "Result:\n",
      "[100.  50.   0.   1.   0.   0.]\n",
      "\n",
      "==== Prediction - Covariance ====\n",
      "Result:\n",
      "[[0.06 0.   0.   0.   0.   0.  ]\n",
      " [0.   0.06 0.   0.   0.   0.  ]\n",
      " [0.   0.   1.05 0.   0.   0.  ]\n",
      " [0.   0.   0.   0.3  0.   0.  ]\n",
      " [0.   0.   0.   0.   0.06 0.  ]\n",
      " [0.   0.   0.   0.   0.   0.06]]\n",
      "\n",
      "\n",
      "==== TEST 3: Update ====\n"
     ]
    },
    {
     "ename": "ValueError",
     "evalue": "matmul: Input operand 1 has a mismatch in its core dimension 0, with gufunc signature (n?,k),(k,m?)->(n?,m?) (size 4 is different from 6)",
     "output_type": "error",
     "traceback": [
      "\u001b[0;31m---------------------------------------------------------------------------\u001b[0m",
      "\u001b[0;31mValueError\u001b[0m                                Traceback (most recent call last)",
      "Cell \u001b[0;32mIn[31], line 41\u001b[0m\n\u001b[1;32m     39\u001b[0m \u001b[38;5;28mprint\u001b[39m(\u001b[38;5;124m\"\u001b[39m\u001b[38;5;130;01m\\n\u001b[39;00m\u001b[38;5;124m==== TEST 3: Update ====\u001b[39m\u001b[38;5;124m\"\u001b[39m)\n\u001b[1;32m     40\u001b[0m measurement_update \u001b[38;5;241m=\u001b[39m np\u001b[38;5;241m.\u001b[39marray([\u001b[38;5;241m102.0\u001b[39m, \u001b[38;5;241m52.0\u001b[39m, \u001b[38;5;241m1.1\u001b[39m, \u001b[38;5;241m2.1\u001b[39m])  \u001b[38;5;66;03m# [x, y, a, h]\u001b[39;00m\n\u001b[0;32m---> 41\u001b[0m updated_mean, updated_covariance \u001b[38;5;241m=\u001b[39m \u001b[43mkf\u001b[49m\u001b[38;5;241;43m.\u001b[39;49m\u001b[43mupdate\u001b[49m\u001b[43m(\u001b[49m\u001b[43mpredicted_mean\u001b[49m\u001b[43m,\u001b[49m\u001b[43m \u001b[49m\u001b[43mpredicted_covariance\u001b[49m\u001b[43m,\u001b[49m\u001b[43m \u001b[49m\u001b[43mmeasurement_update\u001b[49m\u001b[43m)\u001b[49m\n\u001b[1;32m     42\u001b[0m display_test_result(\u001b[38;5;124m\"\u001b[39m\u001b[38;5;124mUpdate - Mean\u001b[39m\u001b[38;5;124m\"\u001b[39m, updated_mean)\n\u001b[1;32m     43\u001b[0m display_test_result(\u001b[38;5;124m\"\u001b[39m\u001b[38;5;124mUpdate - Covariance\u001b[39m\u001b[38;5;124m\"\u001b[39m, updated_covariance)\n",
      "File \u001b[0;32m~/ByteTrack/yolox/tracker/ctra_kalman_filter.py:62\u001b[0m, in \u001b[0;36mupdate\u001b[0;34m(self, mean, covariance, measurement)\u001b[0m\n\u001b[1;32m     56\u001b[0m \u001b[38;5;28;01mdef\u001b[39;00m \u001b[38;5;21mpredict_state\u001b[39m(\u001b[38;5;28mself\u001b[39m, state, dt\u001b[38;5;241m=\u001b[39m\u001b[38;5;241m1.0\u001b[39m):\n\u001b[1;32m     57\u001b[0m \u001b[38;5;250m    \u001b[39m\u001b[38;5;124;03m\"\"\"\u001b[39;00m\n\u001b[1;32m     58\u001b[0m \u001b[38;5;124;03m    Predict the next state based on the CTRA model.\u001b[39;00m\n\u001b[1;32m     59\u001b[0m \u001b[38;5;124;03m    Args:\u001b[39;00m\n\u001b[1;32m     60\u001b[0m \u001b[38;5;124;03m        state: Current state vector [x, y, v, θ, a, ω].\u001b[39;00m\n\u001b[1;32m     61\u001b[0m \u001b[38;5;124;03m        dt: Time step for prediction.\u001b[39;00m\n\u001b[0;32m---> 62\u001b[0m \u001b[38;5;124;03m    Returns:\u001b[39;00m\n\u001b[1;32m     63\u001b[0m \u001b[38;5;124;03m        predicted_state: Predicted state vector [x, y, v, θ, a, ω].\u001b[39;00m\n\u001b[1;32m     64\u001b[0m \u001b[38;5;124;03m    \"\"\"\u001b[39;00m\n\u001b[1;32m     65\u001b[0m     predicted_state \u001b[38;5;241m=\u001b[39m state\u001b[38;5;241m.\u001b[39mcopy()\n\u001b[1;32m     66\u001b[0m     predicted_state[\u001b[38;5;241m0\u001b[39m] \u001b[38;5;241m+\u001b[39m\u001b[38;5;241m=\u001b[39m predicted_state[\u001b[38;5;241m2\u001b[39m] \u001b[38;5;241m*\u001b[39m dt \u001b[38;5;241m*\u001b[39m np\u001b[38;5;241m.\u001b[39mcos(predicted_state[\u001b[38;5;241m3\u001b[39m])  \u001b[38;5;66;03m# x position\u001b[39;00m\n",
      "\u001b[0;31mValueError\u001b[0m: matmul: Input operand 1 has a mismatch in its core dimension 0, with gufunc signature (n?,k),(k,m?)->(n?,m?) (size 4 is different from 6)"
     ]
    }
   ],
   "source": [
    "# Import required modules\n",
    "import numpy as np\n",
    "import scipy.linalg\n",
    "from ctra_kalman_filter import CTRAKalmanFilter\n",
    "\n",
    "# Initialize the Kalman Filter\n",
    "kf = CTRAKalmanFilter()\n",
    "\n",
    "# Helper Function for Display\n",
    "def display_test_result(test_name, result, expected=None):\n",
    "    print(f\"==== {test_name} ====\")\n",
    "    print(\"Result:\")\n",
    "    print(result)\n",
    "    if expected is not None:\n",
    "        print(\"Expected:\")\n",
    "        print(expected)\n",
    "    print()\n",
    "\n",
    "# Test 1: Initialization\n",
    "print(\"\\n==== TEST 1: Initialization ====\")\n",
    "measurement = np.array([100.0, 50.0, 1.0, 2.0])  # [x, y, a, h]\n",
    "mean, covariance = kf.initiate(measurement)\n",
    "\n",
    "display_test_result(\n",
    "    \"Initialization - Mean\", mean, \n",
    "    expected=np.array([100.0, 50.0, 1.0, 2.0, 0.0, 0.0, 0.0, 0.0, 0.0, 0.0])\n",
    ")\n",
    "display_test_result(\n",
    "    \"Initialization - Covariance\", covariance\n",
    ")\n",
    "\n",
    "# Test 2: Prediction\n",
    "print(\"\\n==== TEST 2: Prediction ====\")\n",
    "predicted_mean, predicted_covariance = kf.predict(mean, covariance)\n",
    "display_test_result(\"Prediction - Mean\", predicted_mean)\n",
    "display_test_result(\"Prediction - Covariance\", predicted_covariance)\n",
    "\n",
    "# Test 3: Update\n",
    "print(\"\\n==== TEST 3: Update ====\")\n",
    "measurement_update = np.array([102.0, 52.0, 1.1, 2.1])  # [x, y, a, h]\n",
    "updated_mean, updated_covariance = kf.update(predicted_mean, predicted_covariance, measurement_update)\n",
    "display_test_result(\"Update - Mean\", updated_mean)\n",
    "display_test_result(\"Update - Covariance\", updated_covariance)\n",
    "\n",
    "# Test 4: Multi Prediction\n",
    "print(\"\\n==== TEST 4: Multi Prediction ====\")\n",
    "means = np.array([\n",
    "    [100.0, 50.0, 1.0, 2.0, 0.0, 0.0, 0.0, 0.0, 0.0, 0.0],\n",
    "    [200.0, 150.0, 2.0, 3.0, 0.1, 1.0, 0.1, 0.1, 0.1, 0.1]\n",
    "])\n",
    "covariances = np.array([np.eye(10) for _ in range(len(means))])\n",
    "multi_predicted_means, multi_predicted_covariances = kf.multi_predict(means, covariances)\n",
    "display_test_result(\"Multi Prediction - Means\", multi_predicted_means)\n",
    "display_test_result(\"Multi Prediction - Covariances\", multi_predicted_covariances)\n",
    "\n",
    "# Test 5: Gating Distance\n",
    "print(\"\\n==== TEST 5: Gating Distance ====\")\n",
    "measurement_batch = np.array([\n",
    "    [102.0, 52.0, 1.1, 2.1],\n",
    "    [98.0, 48.0, 0.9, 1.9]\n",
    "])\n",
    "gating_distances = kf.gating_distance(mean, covariance, measurement_batch)\n",
    "display_test_result(\"Gating Distances\", gating_distances)\n"
   ]
  },
  {
   "cell_type": "code",
   "execution_count": null,
   "metadata": {},
   "outputs": [],
   "source": []
  }
 ],
 "metadata": {
  "kernelspec": {
   "display_name": "byte3",
   "language": "python",
   "name": "python3"
  },
  "language_info": {
   "codemirror_mode": {
    "name": "ipython",
    "version": 3
   },
   "file_extension": ".py",
   "mimetype": "text/x-python",
   "name": "python",
   "nbconvert_exporter": "python",
   "pygments_lexer": "ipython3",
   "version": "3.10.15"
  }
 },
 "nbformat": 4,
 "nbformat_minor": 2
}
